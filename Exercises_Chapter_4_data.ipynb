{
  "nbformat": 4,
  "nbformat_minor": 0,
  "metadata": {
    "colab": {
      "provenance": [],
      "include_colab_link": true
    },
    "kernelspec": {
      "display_name": "Python 3",
      "language": "python",
      "name": "python3"
    },
    "language_info": {
      "codemirror_mode": {
        "name": "ipython",
        "version": 3
      },
      "file_extension": ".py",
      "mimetype": "text/x-python",
      "name": "python",
      "nbconvert_exporter": "python",
      "pygments_lexer": "ipython3",
      "version": "3.6.1"
    }
  },
  "cells": [
    {
      "cell_type": "markdown",
      "metadata": {
        "id": "view-in-github",
        "colab_type": "text"
      },
      "source": [
        "<a href=\"https://colab.research.google.com/github/Shen-Xiaoxiao/Shen-Xiaoxiao.github.io/blob/main/Exercises_Chapter_4_data.ipynb\" target=\"_parent\"><img src=\"https://colab.research.google.com/assets/colab-badge.svg\" alt=\"Open In Colab\"/></a>"
      ]
    },
    {
      "cell_type": "markdown",
      "metadata": {
        "id": "5wwf1iX4JQhd"
      },
      "source": [
        "PYTHON NOTEBOOK USED TO ANSWER TO EXERCISES OF CHAPTER 4 OF MATH80624 LECTURE NOTES (Data)\n",
        "\n",
        "Modified by:\n",
        "1. Chun Peng (Created for RSOME January 2021)\n",
        "2. Erick Delage (January 2021)\n",
        "\n",
        "As discussed in Chapter 4 of the  [lecture notes](http://tintin.hec.ca/pages/erick.delage/MATH80624_LectureNotes.pdf) of MATH80624 at HEC Montréal."
      ]
    },
    {
      "cell_type": "markdown",
      "metadata": {
        "id": "XIcOYtO_J1DO"
      },
      "source": [
        "WARNING!!!\n",
        "\n",
        "The following code exploits a free Mosek licence the course \"061652 ROBUST OPTIMIZATION\" offered at Politecnico di Milano (expiration April 25th 2024). If you have error messages informing you about licencing issues, you may try uncommenting the installation lines for Gurobi. Otherwise, we recommend that you obtain your own licence of either Mosek ([url](https://www.mosek.com/)) or Gurobi ([url](https://www.gurobi.com/))."
      ]
    },
    {
      "cell_type": "markdown",
      "metadata": {
        "id": "jlPPv8mEJw4l"
      },
      "source": [
        "# **Preliminaries**"
      ]
    },
    {
      "cell_type": "code",
      "metadata": {
        "id": "himE4iN5z72G"
      },
      "source": [
        "!pip install rsome\n",
        "!pip install mosek\n",
        "!rm mosek.lic\n",
        "!git clone https://github.com/erickdelage/80624\n",
        "!cp ./80624/mosek.lic .\n",
        "!rm -r ./80624\n",
        "!mkdir -p /root/mosek\n",
        "!cp ./mosek.lic /root/mosek\n",
        "#!pip install -i https://pypi.gurobi.com gurobipy"
      ],
      "execution_count": null,
      "outputs": []
    },
    {
      "cell_type": "code",
      "metadata": {
        "collapsed": true,
        "id": "drnG59cKzi8k"
      },
      "source": [
        "import rsome as rso\n",
        "import numpy as np\n",
        "from rsome import ro\n",
        "from rsome import msk_solver as my_solver  #Import Mosek solver interface\n",
        "#from rsome import grb_solver as my_solver  #Import Gurobi solver interface\n"
      ],
      "execution_count": null,
      "outputs": []
    },
    {
      "cell_type": "markdown",
      "metadata": {
        "id": "IJXbqKeQd-bw"
      },
      "source": [
        "### Load the data"
      ]
    },
    {
      "cell_type": "code",
      "metadata": {
        "collapsed": true,
        "id": "Ks3hKtfOeCH4"
      },
      "source": [
        "n=4    #The number of facility locations\n",
        "m=12   #The number of retailer locations\n",
        "c = np.array([9.1, 8.0, 4.5, 2.1])                                                        #Installation cost for each facility location\n",
        "r = 2*np.ones((n,m))                                                                      #Retalier price\n",
        "P = np.array([23, 168, 110, 295])                                                         #Capacity of each facility locations\n",
        "D_bar = np.array([24, 12, 18, 23, 24, 13, 11, 9, 18, 25, 25, 23])                         #Nominal demand of each retalier\n",
        "D_hat = np.array([18, 1, 14, 12, 13, 5, 6, 0, 4, 23, 21, 20])                             #Maximum deviation from the nominal demand\n",
        "d = np.array([[2.31, 2.37, 1.89, 1.92, 1.98, 1.69, 2.37, 2.14, 2.87, 2.16, 2.15, 1.52],   #Transportation cost from facility to retailers\n",
        "    [1.88, 2.36, 2.02, 2.77, 1.17, 1.45, 2.64, 1.45, 1.83, 1.80, 1.74, 2.42],\n",
        "    [2.51, 1.73, 3.50, 2.39, 2.51, 2.50, 3.08, 2.36, 2.35, 1.72, 1.47, 2.10],\n",
        "    [1.71, 2.99, 1.40, 0.96, 1.79, 1.81, 1.89, 2.01, 2.28, 1.71, 2.98, 2.66]])\n",
        "\n",
        "#Column constraint generation algorithm parameters\n",
        "big_M = 10000\n",
        "tolerance = 1e-6"
      ],
      "execution_count": null,
      "outputs": []
    },
    {
      "cell_type": "markdown",
      "metadata": {
        "id": "Uv1MVg5ydd-f"
      },
      "source": [
        "# **Nominal facility location model**\n",
        "\n",
        "We will study the following model:\n",
        "\\begin{align}\n",
        "\\max_{x,y} & - \\sum_{i=1}^n c_i x_i + \\sum_{i=1}^n \\sum_{j=1}^m (r_{ij}-d_{ij})y_{ij} &&\\\\\n",
        "\\text{s.t.} & \\sum_{i=1}^n y_{ij} \\leq D_j &&\\forall\\,j \\in\\{1,\\cdots,m\\}\\\\\n",
        "& \\sum_{j=1}^m y_{ij} \\leq P_i x_i &&\\forall\\,\\;i \\in\\{1,\\cdots,n\\}\\\\\n",
        "&  x \\in \\{0,1\\}^n,\\;y_{ij} \\geq 0 &&\\forall\\,i \\in\\{1,\\cdots,n\\}, j \\in\\{1,\\cdots,m\\},\n",
        "\\end{align}\n"
      ]
    },
    {
      "cell_type": "code",
      "metadata": {
        "id": "llm4IL7-dfzP",
        "scrolled": true
      },
      "source": [
        "#Solve the nominal facility location model\n",
        "\n",
        "#Create model\n",
        "model=ro.Model('Nominal facility location problem')\n",
        "#Define variables\n",
        "x = model.dvar(n,vtype='B')\n",
        "y = model.dvar((n,m))          #in million of units\n",
        "\n",
        "#List the objective and constraints\n",
        "model.max(-c@x + ((r-d)*y).sum())\n",
        "model.st(y.sum(axis=0) <= D_bar)       # Maximum demand at each retalier location\n",
        "model.st(y.sum(axis=1) <= P*x)         # Capacity of each facility location\n",
        "model.st(y>=0)\n",
        "\n",
        "#Solve the model\n",
        "model.solve(my_solver)\n",
        "opt_obj = model.get()  #in million of dollars\n",
        "opt_x = x.get()\n",
        "\n",
        "print('The objective is', opt_obj, 'and the optimal faciliy location is', opt_x)"
      ],
      "execution_count": null,
      "outputs": []
    },
    {
      "cell_type": "markdown",
      "metadata": {
        "id": "aIf0byD-eHa0"
      },
      "source": [
        "# **Exercise 4.1) Implementing vertex enumeration**\n",
        "\n",
        "We are interested in implementing vertex enumeration on the adjustable robust optimization problem:\n",
        "\\begin{align}\n",
        "\\max_{x,y(\\cdot)} \\;\\;& \\min_{z\\in\\mathcal{Z}(\\Gamma)}- \\sum_{i=1}^n c_i x_i + \\sum_{i=1}^n \\sum_{j=1}^m (r_{ij}-d_{ij})y_{ij}(z) &&\\\\\n",
        "\\text{s.t.}\\;\\; & \\sum_{i=1}^n y_{ij}(z) \\leq \\bar{D}_j+\\hat{D}_j z_j &&\\forall z\\in\\mathcal{Z}(\\Gamma),\\;\\forall z\\in\\mathcal{Z}(\\Gamma)\\,,\\;\\forall\\,j \\in\\{1,\\cdots,m\\}\\\\\n",
        "& \\sum_{j=1}^m y_{ij}(z) \\leq P_i x_i &&\\forall z\\in\\mathcal{Z}(\\Gamma),\\;\\forall\\,\\;i \\in\\{1,\\cdots,n\\}\\\\\n",
        "&  x \\in \\{0,1\\}^n,\\;y_{ij}(z) \\geq 0 &&\\forall z\\in\\mathcal{Z}(\\Gamma),\\;\\forall\\,i \\in\\{1,\\cdots,n\\}, j \\in\\{1,\\cdots,m\\},\n",
        "\\end{align}\n",
        "where\n",
        "$$\\mathcal{Z}:= \\left\\{ z\\in \\mathbb{R}^m\\,\\middle|\\, -1 \\leq z \\leq 1,\\, \\sum_i |z_i| \\leq \\Gamma\\right\\}$$\n",
        "\n",
        "In the case of $\\Gamma=1$, there are $2m$ vertices to worry about. Specifically, $ \\mathcal{Z}(1) = \\text{ConvexHull}(\\mathcal{Z}_v(1))$ with $\\mathcal{Z}_v(1):=\\{-e_1,-e_2,\\dots,-e_m,e_1,e_2,\\dots,e_m\\}\\;$.\n",
        "\n",
        "In the case of $\\Gamma=m$, the situation is more complicated as there are now $2^m$ vertices to take care of. Specifically, $ \\mathcal{Z}(m) = \\text{ConvexHull}(\\mathcal{Z}_v(m))$ with $\\mathcal{Z}_v(m):=\\{-1,1\\}^m\\;$.\n",
        "\n",
        "### Useful functions"
      ]
    },
    {
      "cell_type": "code",
      "metadata": {
        "collapsed": true,
        "id": "XdQ-S6hqz42b"
      },
      "source": [
        "\n",
        "def dec2base(ns, b):\n",
        "    #This function convert a list of numbers to a 2-d np.array containing the base b representation of each of them\n",
        "    def dec2base_int(n, b):    #This funcion is used to convert a digit number n to base b\n",
        "        results = []\n",
        "        while True:\n",
        "          if n < b:\n",
        "            results.append(n)# = [n] + results\n",
        "            break\n",
        "          else:\n",
        "            results.append(n%b)# = [n%b] + results\n",
        "            n = n//b\n",
        "        results.reverse()\n",
        "        return np.array(results)\n",
        "\n",
        "    k = len(dec2base_int(max(ns),b))\n",
        "    result = np.zeros((len(ns),k))\n",
        "    for i in range(len(ns)):\n",
        "        x = ns[i]\n",
        "        tmp = dec2base_int(x, b)\n",
        "        if len(tmp) < k:\n",
        "            tmp = np.append(np.zeros(k-len(tmp)),tmp)\n",
        "        result[i,:] = tmp\n",
        "    return result\n",
        "\n",
        "def Vertex_generation(n,Gamma):\n",
        "    #This function creates an 2-d np.array containing all the vertices of an n dimensional budgeted set\n",
        "    #Inputs:\n",
        "    #  n: dimension of set\n",
        "    #  Gamma : budget\n",
        "    #Outputs:\n",
        "    #  z: n \\times N np.array containing N vectors representing each vertex\n",
        "\n",
        "    tmp1 = dec2base(np.arange(3**n), 3)-1   #Create list of all combinations of {-1, 0, 1}^N                #convert digit to base 3 and convert a set of numbers' digit to array\n",
        "    tmp2=np.sum(np.abs(tmp1),axis=1)        #Calculate amount of perturbation in each exteme point\n",
        "    tsce=np.where(tmp2-Gamma==0)[0]      #find where is Gamma constraint active\n",
        "    Zs=tmp1[tsce,:]\n",
        "    Zs=np.transpose(Zs)\n",
        "    N =np.size(Zs,axis=1)\n",
        "    return (Zs, N)\n"
      ],
      "execution_count": null,
      "outputs": []
    },
    {
      "cell_type": "markdown",
      "metadata": {
        "id": "AF7Uwixgz42c"
      },
      "source": [
        "### Solution:\n",
        "\n"
      ]
    },
    {
      "cell_type": "code",
      "metadata": {
        "id": "VPtwlPwHUmrO"
      },
      "source": [
        "#Budget of uncertainty\n",
        "Gamma = 1\n",
        "(zbar,size_z) = Vertex_generation(m,Gamma)\n",
        "\n",
        "# CODE MISSING HERE\n",
        "\n",
        "\n",
        "opt_obj_41_G1 = ??? # include optimal value here\n",
        "opt_x_41_G1 = ??? # include solution here\n",
        "print('when Gamma=', Gamma, 'the objective is', np.round(opt_obj_41_G1,decimals=4), 'and the optimal facility locations are',opt_x_41_G1)"
      ],
      "execution_count": null,
      "outputs": []
    },
    {
      "cell_type": "code",
      "metadata": {
        "id": "cQ8eH6VKUzqQ"
      },
      "source": [
        "#Budget of uncertainty\n",
        "Gamma = m\n",
        "(zbar,size_z) = Vertex_generation(m,Gamma)\n",
        "\n",
        "# CODE MISSING HERE\n",
        "\n",
        "\n",
        "opt_obj_41_Gm = ??? # include optimal value here\n",
        "opt_x_41_Gm = ??? # include solution here\n",
        "print('when Gamma=', Gamma, 'the objective is', np.round(opt_obj_41_Gm,decimals=4), 'and the optimal facility locations are',opt_x_41_Gm)"
      ],
      "execution_count": null,
      "outputs": []
    },
    {
      "cell_type": "markdown",
      "metadata": {
        "id": "LxkMQUIXfKQi"
      },
      "source": [
        "# **Exercise 4.3) Implementing column-and-constraint generation**\n",
        "\n",
        "Solve the robust two-stage optimization problem presented in problem (4.18) using column-and-constraint generation for the budgeted uncertainty set when $\\Gamma=4$."
      ]
    },
    {
      "cell_type": "markdown",
      "metadata": {
        "id": "5OEHonEefOwy"
      },
      "source": [
        "### Solution:\n"
      ]
    },
    {
      "cell_type": "code",
      "metadata": {
        "id": "Q2kFzZTk5gfB"
      },
      "source": [
        "#Budget of uncertainty\n",
        "Gamma = 4\n",
        "\n",
        "# CODE MISSING HERE\n",
        "\n",
        "\n",
        "opt_obj_43 = ??? # include optimal value here\n",
        "opt_x_43 = ??? # include solution here\n",
        "print('when Gamma=', Gamma, 'the objective is', np.round(opt_obj_43,decimals=4), 'and the optimal facility locations are',opt_x_43)"
      ],
      "execution_count": null,
      "outputs": []
    },
    {
      "cell_type": "code",
      "metadata": {
        "collapsed": true,
        "id": "leFN9FgVz42m"
      },
      "source": [],
      "execution_count": null,
      "outputs": []
    }
  ]
}